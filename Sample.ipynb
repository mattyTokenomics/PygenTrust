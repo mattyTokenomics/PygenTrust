{
 "cells": [
  {
   "cell_type": "code",
   "execution_count": 1,
   "id": "52274767",
   "metadata": {},
   "outputs": [],
   "source": [
    "import pygentrust\n"
   ]
  },
  {
   "cell_type": "code",
   "execution_count": 2,
   "id": "d6bf9f0b",
   "metadata": {},
   "outputs": [
    {
     "data": {
      "text/plain": [
       "array([[0., 0., 0., 0., 0.],\n",
       "       [0., 0., 0., 0., 0.],\n",
       "       [0., 0., 0., 0., 0.],\n",
       "       [0., 0., 0., 0., 0.],\n",
       "       [0., 0., 0., 0., 0.]])"
      ]
     },
     "execution_count": 2,
     "metadata": {},
     "output_type": "execute_result"
    }
   ],
   "source": [
    "n = 5 #starting peers\n",
    "p = 2 #starting trusted peers\n",
    "local_scores = pygentrust.initialize_local_trust_matrix(n)\n",
    "local_scores"
   ]
  },
  {
   "cell_type": "code",
   "execution_count": 3,
   "id": "1eb8776c",
   "metadata": {},
   "outputs": [
    {
     "data": {
      "text/plain": [
       "array([[ 0.,  1.,  3.,  0.,  0.],\n",
       "       [ 0.,  0., -1.,  1.,  1.],\n",
       "       [ 0., -2.,  0.,  1.,  0.],\n",
       "       [ 2., -1., -1.,  0.,  0.],\n",
       "       [ 0.,  2., -2.,  2.,  0.]])"
      ]
     },
     "execution_count": 3,
     "metadata": {},
     "output_type": "execute_result"
    }
   ],
   "source": [
    "m=30 #random peer interactions\n",
    "local_scores = pygentrust.generate_random_peer_interactions(local_scores,m)\n",
    "local_scores"
   ]
  },
  {
   "cell_type": "code",
   "execution_count": 4,
   "id": "d14ea89b",
   "metadata": {},
   "outputs": [
    {
     "data": {
      "text/plain": [
       "[0.5, 0.5, 0, 0, 0]"
      ]
     },
     "execution_count": 4,
     "metadata": {},
     "output_type": "execute_result"
    }
   ],
   "source": [
    "global_scores = pygentrust.initalize_global_trust_scores(n,p)\n",
    "global_scores"
   ]
  },
  {
   "cell_type": "code",
   "execution_count": 5,
   "id": "b4f16fe0",
   "metadata": {},
   "outputs": [
    {
     "data": {
      "text/plain": [
       "array([0.31300308, 0.10245271, 0.22950378, 0.30429595, 0.05074448])"
      ]
     },
     "execution_count": 5,
     "metadata": {},
     "output_type": "execute_result"
    }
   ],
   "source": [
    "alpha = 0.1  # blending factor\n",
    "convergence_threshold = 0.01  # convergence threshold\n",
    "global_scores = pygentrust.basic_eigen_trust(local_scores, global_scores, alpha, convergence_threshold)\n",
    "global_scores"
   ]
  },
  {
   "cell_type": "code",
   "execution_count": 6,
   "id": "8c8e3e23",
   "metadata": {},
   "outputs": [
    {
     "data": {
      "text/plain": [
       "array([0.31300308, 0.10245271, 0.22950378, 0.30429595, 0.05074448,\n",
       "       0.        , 0.        , 0.        , 0.        , 0.        ])"
      ]
     },
     "execution_count": 6,
     "metadata": {},
     "output_type": "execute_result"
    }
   ],
   "source": [
    "k = 5 #new peers joining network\n",
    "malicious_collective = False #are new peers a malicious collective?\n",
    "local_scores, global_scores = pygentrust.add_new_peers(local_scores, global_scores, k, malicious_collective)\n",
    "global_scores"
   ]
  },
  {
   "cell_type": "code",
   "execution_count": 7,
   "id": "88181f9e",
   "metadata": {},
   "outputs": [
    {
     "data": {
      "text/plain": [
       "array([0.31300308, 0.10245271, 0.22950378, 0.30429595, 0.05074448,\n",
       "       0.        , 0.        , 0.        , 0.        , 0.        ])"
      ]
     },
     "execution_count": 7,
     "metadata": {},
     "output_type": "execute_result"
    }
   ],
   "source": [
    "# Notice that the global_scores are not impacted by the new peers joining, even when they are a malicious_collective\n",
    "global_scores = pygentrust.basic_eigen_trust(local_scores, global_scores, alpha, convergence_threshold)\n",
    "global_scores"
   ]
  },
  {
   "cell_type": "code",
   "execution_count": 8,
   "id": "3492967c",
   "metadata": {},
   "outputs": [
    {
     "data": {
      "text/plain": [
       "array([[ 0.,  2.,  3.,  0.,  0.,  0.,  0.,  1., -1.,  0.],\n",
       "       [ 0.,  0., -1.,  1.,  1.,  0.,  0.,  0.,  0.,  1.],\n",
       "       [ 0., -3.,  0.,  1.,  1.,  0., -1., -1., -1.,  0.],\n",
       "       [ 3., -1., -1.,  0.,  0.,  0.,  0., -1.,  0.,  0.],\n",
       "       [ 0.,  2., -2.,  2.,  0.,  0.,  0.,  1.,  0.,  0.],\n",
       "       [ 0.,  0., -1.,  1., -1.,  0.,  0.,  0.,  0.,  0.],\n",
       "       [ 0.,  0., -1., -1.,  0.,  1.,  0., -1.,  0.,  0.],\n",
       "       [ 0.,  0.,  0.,  0.,  1., -1.,  0.,  0.,  0.,  0.],\n",
       "       [ 1.,  0.,  0.,  0.,  0.,  0.,  0.,  0.,  0.,  0.],\n",
       "       [ 0.,  0.,  0., -1.,  0.,  1.,  0., -1., -1.,  0.]])"
      ]
     },
     "execution_count": 8,
     "metadata": {},
     "output_type": "execute_result"
    }
   ],
   "source": [
    "m=30 #random peer interactions\n",
    "local_scores = pygentrust.generate_random_peer_interactions(local_scores,m)\n",
    "local_scores\n"
   ]
  },
  {
   "cell_type": "code",
   "execution_count": 9,
   "id": "c463d8ce",
   "metadata": {},
   "outputs": [
    {
     "data": {
      "text/plain": [
       "array([0.21685111, 0.14000929, 0.10678576, 0.20993018, 0.1633539 ,\n",
       "       0.04634898, 0.        , 0.07000413, 0.        , 0.04671666])"
      ]
     },
     "execution_count": 9,
     "metadata": {},
     "output_type": "execute_result"
    }
   ],
   "source": [
    "global_scores = pygentrust.basic_eigen_trust(local_scores, global_scores, alpha, convergence_threshold)\n",
    "global_scores"
   ]
  },
  {
   "cell_type": "code",
   "execution_count": null,
   "id": "4d59197a",
   "metadata": {},
   "outputs": [],
   "source": []
  }
 ],
 "metadata": {
  "kernelspec": {
   "display_name": "Python 3 (ipykernel)",
   "language": "python",
   "name": "python3"
  },
  "language_info": {
   "codemirror_mode": {
    "name": "ipython",
    "version": 3
   },
   "file_extension": ".py",
   "mimetype": "text/x-python",
   "name": "python",
   "nbconvert_exporter": "python",
   "pygments_lexer": "ipython3",
   "version": "3.9.13"
  }
 },
 "nbformat": 4,
 "nbformat_minor": 5
}
