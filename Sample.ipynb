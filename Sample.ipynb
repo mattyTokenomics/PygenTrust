{
 "cells": [
  {
   "cell_type": "code",
   "execution_count": null,
   "id": "52274767",
   "metadata": {},
   "outputs": [],
   "source": [
    "import pygentrust\n"
   ]
  },
  {
   "cell_type": "code",
   "execution_count": null,
   "id": "d6bf9f0b",
   "metadata": {},
   "outputs": [],
   "source": [
    "n = 5 #starting peers\n",
    "p = 2 #starting trusted peers\n",
    "local_scores = pygentrust.initialize_local_trust_matrix(n)\n",
    "local_scores"
   ]
  },
  {
   "cell_type": "code",
   "execution_count": null,
   "id": "1eb8776c",
   "metadata": {},
   "outputs": [],
   "source": [
    "m=30 #random peer interactions\n",
    "local_scores = pygentrust.generate_random_peer_interactions(local_scores,m)\n",
    "local_scores"
   ]
  },
  {
   "cell_type": "code",
   "execution_count": null,
   "id": "d14ea89b",
   "metadata": {},
   "outputs": [],
   "source": [
    "global_scores = pygentrust.initalize_global_trust_scores(n,p)\n",
    "global_scores"
   ]
  },
  {
   "cell_type": "code",
   "execution_count": null,
   "id": "b4f16fe0",
   "metadata": {},
   "outputs": [],
   "source": [
    "alpha = 0.1  # blending factor\n",
    "convergence_threshold = 0.01  # convergence threshold\n",
    "global_scores = pygentrust.basic_eigen_trust(local_scores, global_scores, alpha, convergence_threshold)\n",
    "global_scores"
   ]
  },
  {
   "cell_type": "code",
   "execution_count": null,
   "id": "8c8e3e23",
   "metadata": {},
   "outputs": [],
   "source": [
    "k = 5 #new peers joining network\n",
    "malicious_collective = False #are new peers a malicious collective?\n",
    "local_scores, global_scores = pygentrust.add_new_peers(local_scores, global_scores, k, malicious_collective)\n",
    "global_scores"
   ]
  },
  {
   "cell_type": "code",
   "execution_count": null,
   "id": "88181f9e",
   "metadata": {},
   "outputs": [],
   "source": [
    "# Notice that the global_scores are not impacted by the new peers joining, even when they are a malicious_collective\n",
    "global_scores = pygentrust.basic_eigen_trust(local_scores, global_scores, alpha, convergence_threshold)\n",
    "global_scores"
   ]
  },
  {
   "cell_type": "code",
   "execution_count": null,
   "id": "3492967c",
   "metadata": {},
   "outputs": [],
   "source": [
    "m=30 #random peer interactions\n",
    "local_scores = pygentrust.generate_random_peer_interactions(local_scores,m)\n",
    "local_scores\n"
   ]
  },
  {
   "cell_type": "code",
   "execution_count": null,
   "id": "c463d8ce",
   "metadata": {},
   "outputs": [],
   "source": [
    "global_scores = pygentrust.basic_eigen_trust(local_scores, global_scores, alpha, convergence_threshold)\n",
    "global_scores"
   ]
  },
  {
   "cell_type": "code",
   "execution_count": null,
   "id": "4d59197a",
   "metadata": {},
   "outputs": [],
   "source": []
  }
 ],
 "metadata": {
  "kernelspec": {
   "display_name": "Python 3 (ipykernel)",
   "language": "python",
   "name": "python3"
  },
  "language_info": {
   "codemirror_mode": {
    "name": "ipython",
    "version": 3
   },
   "file_extension": ".py",
   "mimetype": "text/x-python",
   "name": "python",
   "nbconvert_exporter": "python",
   "pygments_lexer": "ipython3",
   "version": "3.11.7"
  }
 },
 "nbformat": 4,
 "nbformat_minor": 5
}
